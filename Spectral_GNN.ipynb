{
  "nbformat": 4,
  "nbformat_minor": 0,
  "metadata": {
    "colab": {
      "provenance": []
    },
    "kernelspec": {
      "name": "python3",
      "display_name": "Python 3"
    },
    "language_info": {
      "name": "python"
    }
  },
  "cells": [
    {
      "cell_type": "code",
      "execution_count": 1,
      "metadata": {
        "colab": {
          "base_uri": "https://localhost:8080/"
        },
        "id": "aL6N7BYnT0WI",
        "outputId": "0b67bad1-5c52-46da-a201-8256eb5696fa"
      },
      "outputs": [
        {
          "output_type": "stream",
          "name": "stdout",
          "text": [
            "2.3.0+cu121\n",
            "\u001b[2K     \u001b[90m━━━━━━━━━━━━━━━━━━━━━━━━━━━━━━━━━━━━━━━━\u001b[0m \u001b[32m10.9/10.9 MB\u001b[0m \u001b[31m36.8 MB/s\u001b[0m eta \u001b[36m0:00:00\u001b[0m\n",
            "\u001b[2K     \u001b[90m━━━━━━━━━━━━━━━━━━━━━━━━━━━━━━━━━━━━━━━━\u001b[0m \u001b[32m5.1/5.1 MB\u001b[0m \u001b[31m43.9 MB/s\u001b[0m eta \u001b[36m0:00:00\u001b[0m\n",
            "\u001b[?25h  Installing build dependencies ... \u001b[?25l\u001b[?25hdone\n",
            "  Getting requirements to build wheel ... \u001b[?25l\u001b[?25hdone\n",
            "  Preparing metadata (pyproject.toml) ... \u001b[?25l\u001b[?25hdone\n",
            "  Building wheel for torch-geometric (pyproject.toml) ... \u001b[?25l\u001b[?25hdone\n"
          ]
        }
      ],
      "source": [
        "import os\n",
        "import torch\n",
        "os.environ['TORCH'] = torch.__version__\n",
        "print(torch.__version__)\n",
        "\n",
        "!pip install -q torch-scatter -f https://data.pyg.org/whl/torch-${TORCH}.html\n",
        "!pip install -q torch-sparse -f https://data.pyg.org/whl/torch-${TORCH}.html\n",
        "!pip install -q git+https://github.com/pyg-team/pytorch_geometric.git"
      ]
    },
    {
      "cell_type": "code",
      "source": [
        "import numpy as np\n",
        "import matplotlib.pyplot as plt\n",
        "plt.rcParams.update({'font.size': 16})"
      ],
      "metadata": {
        "id": "yHBsUcwXT1LZ"
      },
      "execution_count": 2,
      "outputs": []
    },
    {
      "cell_type": "code",
      "source": [
        "def conv(v, w):\n",
        "    c = np.zeros(v.shape)\n",
        "    for n in range(len(v)):\n",
        "        c[n] = 0\n",
        "        for m in range(len(v)):\n",
        "            c[n] += v[m] * w[n - m]\n",
        "    return c"
      ],
      "metadata": {
        "id": "0Hvlk24vT4od"
      },
      "execution_count": 3,
      "outputs": []
    },
    {
      "cell_type": "code",
      "source": [
        "N = 20\n",
        "v = np.zeros(N)\n",
        "v[8:12] = 1\n",
        "w = np.zeros(N)\n",
        "w[1:5] = 1\n",
        "c = conv(v, w)\n",
        "\n",
        "fig = plt.figure()\n",
        "ax = fig.gca()\n",
        "ax.plot(v, '.-')\n",
        "ax.plot(w, '.-')\n",
        "ax.plot(c, '.-')\n",
        "ax.legend(['v', 'w', 'c'])\n",
        "ax.grid(True)"
      ],
      "metadata": {
        "colab": {
          "base_uri": "https://localhost:8080/",
          "height": 436
        },
        "id": "cEU3BK9wUjGg",
        "outputId": "a2643029-f874-4b9b-d937-eded21aa9cc8"
      },
      "execution_count": 4,
      "outputs": [
        {
          "output_type": "display_data",
          "data": {
            "text/plain": [
              "<Figure size 640x480 with 1 Axes>"
            ],
            "image/png": "[encoded data removed]"
          },
          "metadata": {}
        }
      ]
    },
    {
      "cell_type": "code",
      "source": [
        "v, w = np.random.rand(N), np.random.rand(N)\n",
        "conv(v, w)"
      ],
      "metadata": {
        "colab": {
          "base_uri": "https://localhost:8080/"
        },
        "id": "Reyw-jqRU4os",
        "outputId": "47536d54-08b5-4dba-9aa4-051291df8ad9"
      },
      "execution_count": 5,
      "outputs": [
        {
          "output_type": "execute_result",
          "data": {
            "text/plain": [
              "array([3.91438023, 3.24979681, 3.81596179, 3.44460556, 3.552655  ,\n",
              "       3.49241117, 3.89616052, 4.1882035 , 3.95028547, 3.93927512,\n",
              "       3.48849434, 3.07254891, 3.96691214, 3.99315768, 4.07606928,\n",
              "       4.06153522, 3.58560137, 3.81584042, 3.54948298, 3.50306365])"
            ]
          },
          "metadata": {},
          "execution_count": 5
        }
      ]
    },
    {
      "cell_type": "code",
      "source": [
        "from scipy.fft import fft, ifft # Fast Fourier Transform / Inverse FFT\n",
        "np.abs(ifft(fft(v) * fft(w)))"
      ],
      "metadata": {
        "colab": {
          "base_uri": "https://localhost:8080/"
        },
        "id": "TH0eiG44VcpF",
        "outputId": "09ba3173-a845-43a6-933e-aa96d1278d33"
      },
      "execution_count": 6,
      "outputs": [
        {
          "output_type": "execute_result",
          "data": {
            "text/plain": [
              "array([3.91438023, 3.24979681, 3.81596179, 3.44460556, 3.552655  ,\n",
              "       3.49241117, 3.89616052, 4.1882035 , 3.95028547, 3.93927512,\n",
              "       3.48849434, 3.07254891, 3.96691214, 3.99315768, 4.07606928,\n",
              "       4.06153522, 3.58560137, 3.81584042, 3.54948298, 3.50306365])"
            ]
          },
          "metadata": {},
          "execution_count": 6
        }
      ]
    },
    {
      "cell_type": "code",
      "source": [
        "def matrix_U(N):\n",
        "    u = lambda n, N: np.cos(2 * np.pi / N * n * np.arange(N)) - 1j * np.sin(2 * np.pi / N * n * np.arange(N))\n",
        "    U = np.empty((N, 0))\n",
        "    for n in range(N):\n",
        "        U = np.c_[U, u(n, N)]\n",
        "    return U\n",
        "\n",
        "\n",
        "def fourier_transform(v):\n",
        "    N = v.shape[0]\n",
        "    U = matrix_U(N)\n",
        "    return U @ v\n",
        "\n",
        "\n",
        "def inverse_fourier_transform(v):\n",
        "    N = v.shape[0]\n",
        "    U = matrix_U(N)\n",
        "    return (U.conj().transpose() @ v) / N"
      ],
      "metadata": {
        "id": "OqldNXo_Vip7"
      },
      "execution_count": 7,
      "outputs": []
    },
    {
      "cell_type": "code",
      "source": [
        "fft(v) - fourier_transform(v)"
      ],
      "metadata": {
        "colab": {
          "base_uri": "https://localhost:8080/"
        },
        "id": "xyrmyx_bVqL0",
        "outputId": "9a71c759-1adc-407d-bbae-47d9fb449844"
      },
      "execution_count": 8,
      "outputs": [
        {
          "output_type": "execute_result",
          "data": {
            "text/plain": [
              "array([ 0.00000000e+00-0.00000000e+00j,  4.44089210e-16+6.66133815e-16j,\n",
              "        2.22044605e-16+2.22044605e-16j,  2.22044605e-16+8.32667268e-16j,\n",
              "        1.11022302e-16+4.44089210e-16j,  6.49480469e-15+1.38777878e-16j,\n",
              "       -3.21964677e-15-1.38777878e-15j, -4.44089210e-16-1.11022302e-16j,\n",
              "        1.33226763e-15+1.22124533e-15j, -6.66133815e-16+2.55351296e-15j,\n",
              "        0.00000000e+00+6.76830510e-15j, -3.66373598e-15+2.33146835e-15j,\n",
              "       -2.10942375e-15-3.66373598e-15j, -4.66293670e-15-5.55111512e-15j,\n",
              "       -3.55271368e-15-4.77395901e-15j,  6.38378239e-16-8.32667268e-16j,\n",
              "       -1.22124533e-15+1.33226763e-15j, -6.88338275e-15-1.19071419e-14j,\n",
              "        1.55431223e-15-8.88178420e-16j, -3.55271368e-15+1.55431223e-15j])"
            ]
          },
          "metadata": {},
          "execution_count": 8
        }
      ]
    },
    {
      "cell_type": "code",
      "source": [
        "ifft(v) - inverse_fourier_transform(v)"
      ],
      "metadata": {
        "colab": {
          "base_uri": "https://localhost:8080/"
        },
        "id": "Gp3lhLLDVu7u",
        "outputId": "fcbd1606-240b-4b8f-f2c3-491d49070bd6"
      },
      "execution_count": 9,
      "outputs": [
        {
          "output_type": "execute_result",
          "data": {
            "text/plain": [
              "array([-1.11022302e-16-0.00000000e+00j, -1.38777878e-17-4.43438689e-17j,\n",
              "        0.00000000e+00+0.00000000e+00j,  0.00000000e+00-4.51028104e-17j,\n",
              "        1.73472348e-17-6.93889390e-18j,  3.21791205e-16+0.00000000e+00j,\n",
              "       -1.66533454e-16+7.28583860e-17j, -3.98986399e-17+0.00000000e+00j,\n",
              "        7.63278329e-17-6.93889390e-17j, -4.16333634e-17-1.17961196e-16j,\n",
              "        0.00000000e+00-3.38415255e-16j, -1.80411242e-16-1.04083409e-16j,\n",
              "       -9.71445147e-17+1.94289029e-16j, -2.51534904e-16+2.77555756e-16j,\n",
              "       -1.66533454e-16+2.42861287e-16j,  2.94902991e-17+3.29597460e-17j,\n",
              "       -6.24500451e-17-6.93889390e-17j, -3.74700271e-16+5.88071258e-16j,\n",
              "        9.02056208e-17+4.16333634e-17j, -1.66533454e-16-4.99817202e-17j])"
            ]
          },
          "metadata": {},
          "execution_count": 9
        }
      ]
    },
    {
      "cell_type": "code",
      "source": [
        "U = matrix_U(N)\n",
        "np.abs((U.conj().transpose() / N) @ ((U @ v) * (U @ w)))"
      ],
      "metadata": {
        "colab": {
          "base_uri": "https://localhost:8080/"
        },
        "id": "DH9RnBiuV0iR",
        "outputId": "b92a6353-32c3-4421-e2d7-2ad8e08b3baa"
      },
      "execution_count": 10,
      "outputs": [
        {
          "output_type": "execute_result",
          "data": {
            "text/plain": [
              "array([3.91438023, 3.24979681, 3.81596179, 3.44460556, 3.552655  ,\n",
              "       3.49241117, 3.89616052, 4.1882035 , 3.95028547, 3.93927512,\n",
              "       3.48849434, 3.07254891, 3.96691214, 3.99315768, 4.07606928,\n",
              "       4.06153522, 3.58560137, 3.81584042, 3.54948298, 3.50306365])"
            ]
          },
          "metadata": {},
          "execution_count": 10
        }
      ]
    },
    {
      "cell_type": "code",
      "source": [
        "conv(v, w)"
      ],
      "metadata": {
        "colab": {
          "base_uri": "https://localhost:8080/"
        },
        "id": "dvxnol3oV19y",
        "outputId": "9f8e3e38-5393-43b9-ad88-6330e5578c2d"
      },
      "execution_count": 11,
      "outputs": [
        {
          "output_type": "execute_result",
          "data": {
            "text/plain": [
              "array([3.91438023, 3.24979681, 3.81596179, 3.44460556, 3.552655  ,\n",
              "       3.49241117, 3.89616052, 4.1882035 , 3.95028547, 3.93927512,\n",
              "       3.48849434, 3.07254891, 3.96691214, 3.99315768, 4.07606928,\n",
              "       4.06153522, 3.58560137, 3.81584042, 3.54948298, 3.50306365])"
            ]
          },
          "metadata": {},
          "execution_count": 11
        }
      ]
    }
  ]
}